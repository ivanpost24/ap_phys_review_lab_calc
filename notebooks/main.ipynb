{
 "cells": [
  {
   "cell_type": "code",
   "execution_count": 86,
   "id": "9ec3058b2b9f926e",
   "metadata": {
    "collapsed": false,
    "ExecuteTime": {
     "end_time": "2024-05-07T21:28:29.467897Z",
     "start_time": "2024-05-07T21:28:29.464579Z"
    }
   },
   "outputs": [],
   "source": [
    "import matplotlib.pyplot as plt\n",
    "import numpy as np\n",
    "import pandas as pd\n",
    "from uncertainties import ufloat, correlated_values\n",
    "from uncertainties import umath, unumpy as unp\n",
    "from scipy import odr"
   ]
  },
  {
   "cell_type": "code",
   "outputs": [],
   "source": [
    "from IPython.display import display, Markdown\n",
    "\n",
    "def pprint(text: str) -> None:\n",
    "    display(Markdown(text))"
   ],
   "metadata": {
    "collapsed": true,
    "ExecuteTime": {
     "end_time": "2024-05-07T21:28:29.484913Z",
     "start_time": "2024-05-07T21:28:29.482145Z"
    }
   },
   "id": "initial_id",
   "execution_count": 87
  },
  {
   "cell_type": "code",
   "outputs": [],
   "source": [
    "# Physical constants\n",
    "g = ufloat(9.81, 0.01)\n",
    "\n",
    "# Measured constants\n",
    "h_table_dat = ufloat(1., 0.001)"
   ],
   "metadata": {
    "collapsed": false,
    "ExecuteTime": {
     "end_time": "2024-05-07T21:28:29.564544Z",
     "start_time": "2024-05-07T21:28:29.561664Z"
    }
   },
   "id": "27d85e21a4c3c257",
   "execution_count": 88
  },
  {
   "cell_type": "code",
   "outputs": [],
   "source": [
    "# Input\n",
    "h_ramp_input = ufloat(0.200, 0.001)"
   ],
   "metadata": {
    "collapsed": false,
    "ExecuteTime": {
     "end_time": "2024-05-07T21:28:29.599237Z",
     "start_time": "2024-05-07T21:28:29.596880Z"
    }
   },
   "id": "55f9294b889f21e0",
   "execution_count": 89
  },
  {
   "cell_type": "code",
   "outputs": [
    {
     "data": {
      "text/plain": "       h_ramp  h_ramp_err   t_pulse  t_pulse_err\ntrial                                           \n1      0.1220       0.001  0.347364     0.003536\n2      0.1220       0.001  0.340719     0.003536\n3      0.1220       0.001  0.340584     0.003536\n4      0.1220       0.001  0.340180     0.003536\n5      0.1220       0.001  0.341503     0.003536\n6      0.1220       0.001  0.344146     0.003536\n7      0.1220       0.001  0.342533     0.003536\n8      0.1220       0.001  0.342628     0.003536\n9      0.1220       0.001  0.344969     0.003536\n10     0.1220       0.001  0.339916     0.003536\n11     0.1220       0.001  0.344405     0.003536\n12     0.1220       0.001  0.337668     0.003536\n13     0.1220       0.001  0.340157     0.003536\n14     0.1220       0.001  0.342650     0.003536\n15     0.0855       0.001  0.422430     0.003536\n16     0.0855       0.001  0.412981     0.003536\n17     0.0860       0.001  0.415631     0.003536\n18     0.1115       0.001  0.362517     0.003536\n19     0.1115       0.001  0.360451     0.003536\n20     0.1115       0.001  0.366893     0.003536\n21     0.1450       0.001  0.313674     0.003536\n22     0.1450       0.001  0.312030     0.003536\n23     0.1450       0.001  0.311703     0.003536",
      "text/html": "<div>\n<style scoped>\n    .dataframe tbody tr th:only-of-type {\n        vertical-align: middle;\n    }\n\n    .dataframe tbody tr th {\n        vertical-align: top;\n    }\n\n    .dataframe thead th {\n        text-align: right;\n    }\n</style>\n<table border=\"1\" class=\"dataframe\">\n  <thead>\n    <tr style=\"text-align: right;\">\n      <th></th>\n      <th>h_ramp</th>\n      <th>h_ramp_err</th>\n      <th>t_pulse</th>\n      <th>t_pulse_err</th>\n    </tr>\n    <tr>\n      <th>trial</th>\n      <th></th>\n      <th></th>\n      <th></th>\n      <th></th>\n    </tr>\n  </thead>\n  <tbody>\n    <tr>\n      <th>1</th>\n      <td>0.1220</td>\n      <td>0.001</td>\n      <td>0.347364</td>\n      <td>0.003536</td>\n    </tr>\n    <tr>\n      <th>2</th>\n      <td>0.1220</td>\n      <td>0.001</td>\n      <td>0.340719</td>\n      <td>0.003536</td>\n    </tr>\n    <tr>\n      <th>3</th>\n      <td>0.1220</td>\n      <td>0.001</td>\n      <td>0.340584</td>\n      <td>0.003536</td>\n    </tr>\n    <tr>\n      <th>4</th>\n      <td>0.1220</td>\n      <td>0.001</td>\n      <td>0.340180</td>\n      <td>0.003536</td>\n    </tr>\n    <tr>\n      <th>5</th>\n      <td>0.1220</td>\n      <td>0.001</td>\n      <td>0.341503</td>\n      <td>0.003536</td>\n    </tr>\n    <tr>\n      <th>6</th>\n      <td>0.1220</td>\n      <td>0.001</td>\n      <td>0.344146</td>\n      <td>0.003536</td>\n    </tr>\n    <tr>\n      <th>7</th>\n      <td>0.1220</td>\n      <td>0.001</td>\n      <td>0.342533</td>\n      <td>0.003536</td>\n    </tr>\n    <tr>\n      <th>8</th>\n      <td>0.1220</td>\n      <td>0.001</td>\n      <td>0.342628</td>\n      <td>0.003536</td>\n    </tr>\n    <tr>\n      <th>9</th>\n      <td>0.1220</td>\n      <td>0.001</td>\n      <td>0.344969</td>\n      <td>0.003536</td>\n    </tr>\n    <tr>\n      <th>10</th>\n      <td>0.1220</td>\n      <td>0.001</td>\n      <td>0.339916</td>\n      <td>0.003536</td>\n    </tr>\n    <tr>\n      <th>11</th>\n      <td>0.1220</td>\n      <td>0.001</td>\n      <td>0.344405</td>\n      <td>0.003536</td>\n    </tr>\n    <tr>\n      <th>12</th>\n      <td>0.1220</td>\n      <td>0.001</td>\n      <td>0.337668</td>\n      <td>0.003536</td>\n    </tr>\n    <tr>\n      <th>13</th>\n      <td>0.1220</td>\n      <td>0.001</td>\n      <td>0.340157</td>\n      <td>0.003536</td>\n    </tr>\n    <tr>\n      <th>14</th>\n      <td>0.1220</td>\n      <td>0.001</td>\n      <td>0.342650</td>\n      <td>0.003536</td>\n    </tr>\n    <tr>\n      <th>15</th>\n      <td>0.0855</td>\n      <td>0.001</td>\n      <td>0.422430</td>\n      <td>0.003536</td>\n    </tr>\n    <tr>\n      <th>16</th>\n      <td>0.0855</td>\n      <td>0.001</td>\n      <td>0.412981</td>\n      <td>0.003536</td>\n    </tr>\n    <tr>\n      <th>17</th>\n      <td>0.0860</td>\n      <td>0.001</td>\n      <td>0.415631</td>\n      <td>0.003536</td>\n    </tr>\n    <tr>\n      <th>18</th>\n      <td>0.1115</td>\n      <td>0.001</td>\n      <td>0.362517</td>\n      <td>0.003536</td>\n    </tr>\n    <tr>\n      <th>19</th>\n      <td>0.1115</td>\n      <td>0.001</td>\n      <td>0.360451</td>\n      <td>0.003536</td>\n    </tr>\n    <tr>\n      <th>20</th>\n      <td>0.1115</td>\n      <td>0.001</td>\n      <td>0.366893</td>\n      <td>0.003536</td>\n    </tr>\n    <tr>\n      <th>21</th>\n      <td>0.1450</td>\n      <td>0.001</td>\n      <td>0.313674</td>\n      <td>0.003536</td>\n    </tr>\n    <tr>\n      <th>22</th>\n      <td>0.1450</td>\n      <td>0.001</td>\n      <td>0.312030</td>\n      <td>0.003536</td>\n    </tr>\n    <tr>\n      <th>23</th>\n      <td>0.1450</td>\n      <td>0.001</td>\n      <td>0.311703</td>\n      <td>0.003536</td>\n    </tr>\n  </tbody>\n</table>\n</div>"
     },
     "execution_count": 90,
     "metadata": {},
     "output_type": "execute_result"
    }
   ],
   "source": [
    "with pd.ExcelFile('../data/data.xlsx') as wkbk:\n",
    "    rot_inertia_df = pd.read_excel(wkbk, 'RotInertia', index_col='trial')\n",
    "rot_inertia_df"
   ],
   "metadata": {
    "collapsed": false,
    "ExecuteTime": {
     "end_time": "2024-05-07T21:28:29.617078Z",
     "start_time": "2024-05-07T21:28:29.601009Z"
    }
   },
   "id": "e2dbfca973f5995c",
   "execution_count": 90
  },
  {
   "cell_type": "markdown",
   "source": [
    "## Method 1: Simple method"
   ],
   "metadata": {
    "collapsed": false
   },
   "id": "b8ead27d003ac9ed"
  },
  {
   "cell_type": "code",
   "outputs": [],
   "source": [
    "inertia_ratio = 2 / 5\n",
    "factor = 1 / (0.5 * (1 + inertia_ratio))"
   ],
   "metadata": {
    "collapsed": false,
    "ExecuteTime": {
     "end_time": "2024-05-07T21:28:29.620702Z",
     "start_time": "2024-05-07T21:28:29.618154Z"
    }
   },
   "id": "36ef55aecbc8d78f",
   "execution_count": 91
  },
  {
   "cell_type": "code",
   "outputs": [
    {
     "data": {
      "text/plain": "<IPython.core.display.Markdown object>",
      "text/markdown": "$v_2 = 1.674 \\pm 0.004$ m/s"
     },
     "metadata": {},
     "output_type": "display_data"
    }
   ],
   "source": [
    "v1 = v2 = umath.sqrt(factor * g * h_ramp_input)\n",
    "pprint('$v_2 = {:L}$ m/s'.format(v2))"
   ],
   "metadata": {
    "collapsed": false,
    "ExecuteTime": {
     "end_time": "2024-05-07T21:28:29.633347Z",
     "start_time": "2024-05-07T21:28:29.629539Z"
    }
   },
   "id": "60d023a0db0c99ac",
   "execution_count": 92
  },
  {
   "cell_type": "code",
   "outputs": [
    {
     "data": {
      "text/plain": "<IPython.core.display.Markdown object>",
      "text/markdown": "Place the target $75.59 \\pm 0.19$ cm from the base of the table."
     },
     "metadata": {},
     "output_type": "display_data"
    }
   ],
   "source": [
    "dt3 = umath.sqrt(2 * h_table_dat / g)\n",
    "dx3 = v2 * dt3\n",
    "pprint('Place the target ${:L}$ cm from the base of the table.'.format(dx3 * 100))"
   ],
   "metadata": {
    "collapsed": false,
    "ExecuteTime": {
     "end_time": "2024-05-07T21:28:29.666069Z",
     "start_time": "2024-05-07T21:28:29.662531Z"
    }
   },
   "id": "ff1076facd95a53",
   "execution_count": 93
  },
  {
   "cell_type": "markdown",
   "source": [
    "## Method 2: Moment of inertia"
   ],
   "metadata": {
    "collapsed": false
   },
   "id": "7ee73440ed3a3c5b"
  },
  {
   "cell_type": "code",
   "outputs": [],
   "source": [
    "# Photogate distance\n",
    "photo_dist = ufloat(0.400, 0.001 / 2.5)"
   ],
   "metadata": {
    "collapsed": false,
    "ExecuteTime": {
     "end_time": "2024-05-07T21:28:29.697675Z",
     "start_time": "2024-05-07T21:28:29.695330Z"
    }
   },
   "id": "ccd4628e94cbe6c5",
   "execution_count": 94
  },
  {
   "cell_type": "code",
   "outputs": [],
   "source": [
    "# Get data\n",
    "h_ramp_dat = unp.uarray(rot_inertia_df.h_ramp, rot_inertia_df.h_ramp_err)\n",
    "t_pulse_dat = unp.uarray(rot_inertia_df.t_pulse, rot_inertia_df.t_pulse_err)"
   ],
   "metadata": {
    "collapsed": false,
    "ExecuteTime": {
     "end_time": "2024-05-07T21:28:29.917993Z",
     "start_time": "2024-05-07T21:28:29.914988Z"
    }
   },
   "id": "e75f601ea36a0836",
   "execution_count": 97
  },
  {
   "cell_type": "code",
   "outputs": [
    {
     "name": "stdout",
     "output_type": "stream",
     "text": [
      "Beta: [76.59768728 -0.83455529]\n",
      "Beta Std Error: [1.56658777 0.17812955]\n",
      "Beta Covariance: [[ 4.39600537 -0.49380653]\n",
      " [-0.49380653  0.05683563]]\n",
      "Residual Variance: 0.5582789450383805\n",
      "Inverse Condition #: 0.01609453503410503\n",
      "Reason(s) for Halting:\n",
      "  Sum of squares convergence\n"
     ]
    }
   ],
   "source": [
    "# Actually perform the regression\n",
    "x = h_ramp_dat\n",
    "y = 1 / (t_pulse_dat ** 2)\n",
    "data = odr.RealData(unp.nominal_values(x), unp.nominal_values(y), sx=unp.std_devs(x), sy=unp.std_devs(y))\n",
    "regressor = odr.ODR(data=data, model=odr.unilinear)\n",
    "odr_result = regressor.run()\n",
    "odr_result.pprint()"
   ],
   "metadata": {
    "collapsed": false,
    "ExecuteTime": {
     "end_time": "2024-05-07T21:28:29.938454Z",
     "start_time": "2024-05-07T21:28:29.933639Z"
    }
   },
   "id": "a23a85a4492ae08c",
   "execution_count": 98
  },
  {
   "cell_type": "code",
   "outputs": [
    {
     "data": {
      "text/plain": "<IPython.core.display.Markdown object>",
      "text/markdown": "intercept $= -0.83 \\pm 0.18$ 1/(m s^2)"
     },
     "metadata": {},
     "output_type": "display_data"
    },
    {
     "data": {
      "text/plain": "<IPython.core.display.Markdown object>",
      "text/markdown": "slope $= 76.6 \\pm 1.6$ m/s^2"
     },
     "metadata": {},
     "output_type": "display_data"
    }
   ],
   "source": [
    "# Learned values from the regression\n",
    "slope, intercept = correlated_values(odr_result.beta, covariance_mat=odr_result.cov_beta * odr_result.res_var)\n",
    "pprint(r'intercept $= {:L}$ 1/(m s^2)'.format(intercept))\n",
    "pprint(r'slope $= {:L}$ m/s^2'.format(slope))"
   ],
   "metadata": {
    "collapsed": false,
    "ExecuteTime": {
     "end_time": "2024-05-07T21:28:29.977930Z",
     "start_time": "2024-05-07T21:28:29.972735Z"
    }
   },
   "id": "fb6d7a0409dbe75b",
   "execution_count": 99
  },
  {
   "cell_type": "code",
   "outputs": [
    {
     "data": {
      "text/plain": "<Figure size 640x480 with 1 Axes>",
      "image/png": "[encoded data removed]"
     },
     "metadata": {},
     "output_type": "display_data"
    }
   ],
   "source": [
    "# Create a plot\n",
    "x_test = np.linspace(0.05, 0.2)\n",
    "plt.errorbar(unp.nominal_values(h_ramp_dat), unp.nominal_values(photo_dist / t_pulse_dat), \n",
    "             yerr=3 * unp.std_devs(photo_dist / t_pulse_dat), xerr=3 * unp.std_devs(h_ramp_dat),\n",
    "             fmt='.', label='Ground truth')\n",
    "y_pred_emp = slope * x_test + intercept\n",
    "v_pred_emp = unp.sqrt(y_pred_emp) * photo_dist\n",
    "plt.errorbar(x_test, unp.nominal_values(v_pred_emp), yerr=3 * unp.std_devs(v_pred_emp), label='Empirical prediction')\n",
    "v_pred_mod = unp.sqrt(factor * g * x_test)\n",
    "plt.errorbar(x_test, unp.nominal_values(v_pred_mod), yerr=3 * unp.std_devs(v_pred_mod), label='Model prediction')\n",
    "plt.ylim(0, 2)\n",
    "plt.legend()\n",
    "plt.xlabel(r'Height of the ramp $h_{\\text{ramp}}$ (m)')\n",
    "plt.ylabel(r'Velocity of the marble $v_2$ (m/s)')\n",
    "plt.show()"
   ],
   "metadata": {
    "collapsed": false
   },
   "id": "571e917d2c824f2",
   "execution_count": 100
  },
  {
   "cell_type": "code",
   "outputs": [
    {
     "data": {
      "text/plain": "<IPython.core.display.Markdown object>",
      "text/markdown": "$v_2 = 1.522 \\pm 0.009$ m/s"
     },
     "metadata": {},
     "output_type": "display_data"
    }
   ],
   "source": [
    "v1 = v2 = umath.sqrt(slope * h_ramp_input + intercept) * photo_dist\n",
    "pprint('$v_2 = {:L}$ m/s'.format(v2))"
   ],
   "metadata": {
    "collapsed": false,
    "ExecuteTime": {
     "end_time": "2024-05-07T21:28:30.163726Z",
     "start_time": "2024-05-07T21:28:30.160061Z"
    }
   },
   "id": "e92cad1bea68b534",
   "execution_count": 101
  },
  {
   "cell_type": "code",
   "outputs": [
    {
     "data": {
      "text/plain": "<IPython.core.display.Markdown object>",
      "text/markdown": "Place the target $68.7 \\pm 0.4$ cm from the base of the table."
     },
     "metadata": {},
     "output_type": "display_data"
    }
   ],
   "source": [
    "dt3 = umath.sqrt(2 * h_table_dat / g)\n",
    "dx3 = v2 * dt3\n",
    "pprint('Place the target ${:L}$ cm from the base of the table.'.format(dx3 * 100))"
   ],
   "metadata": {
    "collapsed": false,
    "ExecuteTime": {
     "end_time": "2024-05-07T21:28:30.167812Z",
     "start_time": "2024-05-07T21:28:30.164696Z"
    }
   },
   "id": "7dd993311199e2ac",
   "execution_count": 102
  },
  {
   "cell_type": "markdown",
   "source": [
    "## Method 3: Single height"
   ],
   "metadata": {
    "collapsed": false
   },
   "id": "293f396bfbecebd4"
  },
  {
   "cell_type": "code",
   "outputs": [
    {
     "data": {
      "text/plain": "array([0.347364+/-0.0011785113019775794,\n       0.340718999999999+/-0.0011785113019775794,\n       0.340584+/-0.0011785113019775794,\n       0.340179999999999+/-0.0011785113019775794,\n       0.341502999999999+/-0.0011785113019775794,\n       0.344146+/-0.0011785113019775794, 0.342533+/-0.0011785113019775794,\n       0.342628+/-0.0011785113019775794,\n       0.344968999999999+/-0.0011785113019775794,\n       0.339916+/-0.0011785113019775794, 0.344405+/-0.0011785113019775794,\n       0.337667999999999+/-0.0011785113019775794,\n       0.340156999999999+/-0.0011785113019775794,\n       0.34265+/-0.0011785113019775794], dtype=object)"
     },
     "execution_count": 103,
     "metadata": {},
     "output_type": "execute_result"
    }
   ],
   "source": [
    "h_ramp_input = ufloat(rot_inertia_df.loc[1, 'h_ramp'], rot_inertia_df.loc[1, 'h_ramp_err'] / 3)\n",
    "t_pulse_dat = unp.uarray(rot_inertia_df.loc[1:14, 't_pulse'], rot_inertia_df.loc[1:14, 't_pulse_err'] / 3)\n",
    "t_pulse_dat"
   ],
   "metadata": {
    "collapsed": false,
    "ExecuteTime": {
     "end_time": "2024-05-07T21:28:30.173728Z",
     "start_time": "2024-05-07T21:28:30.169610Z"
    }
   },
   "id": "c119cb93ddb5fc6f",
   "execution_count": 103
  },
  {
   "cell_type": "code",
   "outputs": [
    {
     "data": {
      "text/plain": "<IPython.core.display.Markdown object>",
      "text/markdown": "$v_2 = 1.1693 \\pm 0.0016$ m/s"
     },
     "metadata": {},
     "output_type": "display_data"
    }
   ],
   "source": [
    "v1 = v2 = sum(photo_dist / t_pulse_dat) / len(t_pulse_dat)\n",
    "pprint('$v_2 = {:L}$ m/s'.format(v2))"
   ],
   "metadata": {
    "collapsed": false,
    "ExecuteTime": {
     "end_time": "2024-05-07T21:28:30.178284Z",
     "start_time": "2024-05-07T21:28:30.174687Z"
    }
   },
   "id": "bcbd1d2be9e82a5f",
   "execution_count": 104
  },
  {
   "cell_type": "code",
   "outputs": [
    {
     "data": {
      "text/plain": "<IPython.core.display.Markdown object>",
      "text/markdown": "Place the target $52.80 \\pm 0.08$ cm from the base of the table and the ramp $12.200 \\pm 0.033$ cm off the surface of the table."
     },
     "metadata": {},
     "output_type": "display_data"
    }
   ],
   "source": [
    "dt3 = umath.sqrt(2 * h_table_dat / g)\n",
    "dx3 = v2 * dt3\n",
    "pprint('Place the target ${:L}$ cm from the base of the table and the ramp ${:L}$ cm off the surface of the table.'.format(dx3 * 100, h_ramp_input * 100))"
   ],
   "metadata": {
    "collapsed": false,
    "ExecuteTime": {
     "end_time": "2024-05-07T21:28:30.182850Z",
     "start_time": "2024-05-07T21:28:30.179391Z"
    }
   },
   "id": "5cdc0247b142d85c",
   "execution_count": 105
  }
 ],
 "metadata": {
  "kernelspec": {
   "display_name": "Python 3",
   "language": "python",
   "name": "python3"
  },
  "language_info": {
   "codemirror_mode": {
    "name": "ipython",
    "version": 2
   },
   "file_extension": ".py",
   "mimetype": "text/x-python",
   "name": "python",
   "nbconvert_exporter": "python",
   "pygments_lexer": "ipython2",
   "version": "2.7.6"
  }
 },
 "nbformat": 4,
 "nbformat_minor": 5
}
