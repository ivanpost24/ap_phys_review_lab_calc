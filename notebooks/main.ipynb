{
 "cells": [
  {
   "cell_type": "code",
   "execution_count": 44,
   "id": "9ec3058b2b9f926e",
   "metadata": {
    "collapsed": false,
    "ExecuteTime": {
     "end_time": "2024-05-02T00:38:05.922938Z",
     "start_time": "2024-05-02T00:38:05.920160Z"
    }
   },
   "outputs": [],
   "source": [
    "import numpy as np\n",
    "import pandas as pd\n",
    "from scipy import odr\n",
    "from uncertainties import ufloat, correlated_values\n",
    "from uncertainties import umath, unumpy as unp"
   ]
  },
  {
   "cell_type": "code",
   "outputs": [],
   "source": [
    "from IPython.display import display, Markdown\n",
    "\n",
    "def pprint(text: str) -> None:\n",
    "    display(Markdown(text))"
   ],
   "metadata": {
    "collapsed": true,
    "ExecuteTime": {
     "end_time": "2024-05-02T00:29:21.545206Z",
     "start_time": "2024-05-02T00:29:21.542419Z"
    }
   },
   "id": "initial_id",
   "execution_count": 35
  },
  {
   "cell_type": "code",
   "outputs": [],
   "source": [
    "# Physical constants\n",
    "g = ufloat(9.81, 0.01)\n",
    "\n",
    "# Measured constants\n",
    "h_table = ufloat(1., 0.001)"
   ],
   "metadata": {
    "collapsed": false,
    "ExecuteTime": {
     "end_time": "2024-05-02T00:29:21.549190Z",
     "start_time": "2024-05-02T00:29:21.546820Z"
    }
   },
   "id": "27d85e21a4c3c257",
   "execution_count": 36
  },
  {
   "cell_type": "code",
   "outputs": [],
   "source": [
    "# Input\n",
    "h_ramp = ufloat(0.10, 0.001)"
   ],
   "metadata": {
    "collapsed": false,
    "ExecuteTime": {
     "end_time": "2024-05-02T00:29:21.554011Z",
     "start_time": "2024-05-02T00:29:21.551647Z"
    }
   },
   "id": "55f9294b889f21e0",
   "execution_count": 37
  },
  {
   "cell_type": "markdown",
   "source": [
    "## Method 1: Simple method"
   ],
   "metadata": {
    "collapsed": false
   },
   "id": "b8ead27d003ac9ed"
  },
  {
   "cell_type": "code",
   "outputs": [
    {
     "data": {
      "text/plain": "1.1838194843085543+/-0.005949770943725632"
     },
     "execution_count": 38,
     "metadata": {},
     "output_type": "execute_result"
    }
   ],
   "source": [
    "v1 = v2 = umath.sqrt(10 / 7 * g * h_ramp)\n",
    "v2"
   ],
   "metadata": {
    "collapsed": false,
    "ExecuteTime": {
     "end_time": "2024-05-02T00:29:21.558550Z",
     "start_time": "2024-05-02T00:29:21.555179Z"
    }
   },
   "id": "60d023a0db0c99ac",
   "execution_count": 38
  },
  {
   "cell_type": "code",
   "outputs": [
    {
     "data": {
      "text/plain": "<IPython.core.display.Markdown object>",
      "text/markdown": "Place the target $53.45 \\pm 0.27$ cm from the base of the table."
     },
     "metadata": {},
     "output_type": "display_data"
    }
   ],
   "source": [
    "dt3 = umath.sqrt(2 * h_table / g)\n",
    "dx3 = v2 * dt3\n",
    "pprint('Place the target ${:L}$ cm from the base of the table.'.format(dx3 * 100))"
   ],
   "metadata": {
    "collapsed": false,
    "ExecuteTime": {
     "end_time": "2024-05-02T00:29:21.563080Z",
     "start_time": "2024-05-02T00:29:21.559690Z"
    }
   },
   "id": "ff1076facd95a53",
   "execution_count": 39
  },
  {
   "cell_type": "markdown",
   "source": [
    "## Method 2: Moment of inertia"
   ],
   "metadata": {
    "collapsed": false
   },
   "id": "7ee73440ed3a3c5b"
  },
  {
   "cell_type": "code",
   "outputs": [],
   "source": [
    "# Dummy data for testing\n",
    "n = 15\n",
    "x = np.linspace(0, 10, n)\n",
    "xerr = np.abs(np.random.normal(0, 2.5, n))\n",
    "x = np.random.normal(x, xerr, n)\n",
    "\n",
    "y = np.linspace(0, 20, n)\n",
    "yerr = np.abs(np.random.normal(0, 2.5, n))\n",
    "y = np.random.normal(y, yerr)"
   ],
   "metadata": {
    "collapsed": false,
    "ExecuteTime": {
     "end_time": "2024-05-02T00:29:21.567483Z",
     "start_time": "2024-05-02T00:29:21.564298Z"
    }
   },
   "id": "a721d8dc39fdcb0",
   "execution_count": 40
  },
  {
   "cell_type": "code",
   "outputs": [
    {
     "name": "stdout",
     "output_type": "stream",
     "text": [
      "Beta: [ 2.03532822 -0.81818662]\n",
      "Beta Std Error: [0.35785016 2.57438203]\n",
      "Beta Covariance: [[ 0.10245617 -0.63463723]\n",
      " [-0.63463723  5.30251212]]\n",
      "Residual Variance: 1.2498684961338524\n",
      "Inverse Condition #: 0.06685559365028695\n",
      "Reason(s) for Halting:\n",
      "  Sum of squares convergence\n"
     ]
    }
   ],
   "source": [
    "data = odr.RealData(x, y, sx=xerr, sy=yerr)\n",
    "regressor = odr.ODR(data=data, model=odr.unilinear)\n",
    "odr_result = regressor.run()\n",
    "odr_result.pprint()"
   ],
   "metadata": {
    "collapsed": false,
    "ExecuteTime": {
     "end_time": "2024-05-02T00:29:21.572808Z",
     "start_time": "2024-05-02T00:29:21.568397Z"
    }
   },
   "id": "a23a85a4492ae08c",
   "execution_count": 41
  },
  {
   "cell_type": "code",
   "outputs": [
    {
     "name": "stdout",
     "output_type": "stream",
     "text": [
      "2.04+/-0.32\n",
      "-0.8+/-2.3\n"
     ]
    }
   ],
   "source": [
    "intercept, slope = correlated_values(odr_result.beta, covariance_mat=odr_result.cov_beta)\n",
    "print(intercept)\n",
    "print(slope)"
   ],
   "metadata": {
    "collapsed": false,
    "ExecuteTime": {
     "end_time": "2024-05-02T00:38:49.255523Z",
     "start_time": "2024-05-02T00:38:49.248774Z"
    }
   },
   "id": "fb6d7a0409dbe75b",
   "execution_count": 45
  },
  {
   "cell_type": "code",
   "outputs": [],
   "source": [],
   "metadata": {
    "collapsed": false
   },
   "id": "e9a4e76c7dbd5609"
  }
 ],
 "metadata": {
  "kernelspec": {
   "display_name": "Python 3",
   "language": "python",
   "name": "python3"
  },
  "language_info": {
   "codemirror_mode": {
    "name": "ipython",
    "version": 2
   },
   "file_extension": ".py",
   "mimetype": "text/x-python",
   "name": "python",
   "nbconvert_exporter": "python",
   "pygments_lexer": "ipython2",
   "version": "2.7.6"
  }
 },
 "nbformat": 4,
 "nbformat_minor": 5
}
